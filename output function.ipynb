{
 "cells": [
  {
   "cell_type": "markdown",
   "metadata": {},
   "source": [
    "# The Quadratic Assignment Problem \n",
    "## (permutations only here)"
   ]
  },
  {
   "cell_type": "code",
   "execution_count": 87,
   "metadata": {},
   "outputs": [],
   "source": [
    "##This is an initialization cell. Run this first\n",
    "import pandas as pd\n",
    "import numpy as np\n",
    "from itertools import product\n",
    "import time\n",
    "import math\n",
    "import matplotlib\n",
    "import matplotlib.pyplot as plt"
   ]
  },
  {
   "cell_type": "markdown",
   "metadata": {},
   "source": [
    "## Here we are creating a repository of different data sizes\n",
    "We have our data from https://neos-guide.org/content/quadratic-assignment-problem and \n",
    "http://anjos.mgi.polymtl.ca/qaplib/\n",
    "QAPLIB - A Quadratic Assignment Problem Library\n",
    "R.E. BURKARD, E. ÇELA, S.E. KARISCH and F. RENDL"
   ]
  },
  {
   "cell_type": "code",
   "execution_count": 88,
   "metadata": {},
   "outputs": [],
   "source": [
    "def CSVtoNumpyArray(rawdata):\n",
    "    \"\"\"\n",
    "    Input: \n",
    "    rawdata = a csv file (insert name as a string)\n",
    "\n",
    "    Output:\n",
    "    two numpy matrices in a tuple\n",
    "    \"\"\"\n",
    "    data = pd.read_csv(rawdata)  #Reads the data in as a pandas object\n",
    "    c = data.columns\n",
    "    column = int(c[0])\n",
    "    final_data1 = data.iloc[:column,:].values  #Sets data into a series of numpy arrays of strings\n",
    "    final_data2 = data.iloc[column:,:].values  #1 is for the first matrix(loc) and 2 is for the second(flow)\n",
    "    \n",
    "\n",
    "    #Forms the matrix as a numpy array (easier to work with) instead of an list of lists of strings\n",
    "    def string_to_integers(final_data):\n",
    "        matrix = []\n",
    "        for j in range(column):\n",
    "            string = final_data[j][0]\n",
    "            string2 = string.split(\" \")\n",
    "            emptyarray = []\n",
    "            for i in string2:\n",
    "                if i != '':\n",
    "                    emptyarray.append(int(i))\n",
    "            matrix.append(emptyarray)\n",
    "        npmatrix = np.array(matrix) \n",
    "        return npmatrix\n",
    "    return string_to_integers(final_data1),string_to_integers(final_data2)"
   ]
  },
  {
   "cell_type": "code",
   "execution_count": 132,
   "metadata": {},
   "outputs": [],
   "source": [
    "#REPOSITORY\n",
    "\n",
    "#small sized matrices(under 10x10)\n",
    "matrix_size_4 = 'tai4a.csv'\n",
    "matrix_size_5 = 'tai5a.csv'\n",
    "matrix_size_6 = 'tai6a.csv'\n",
    "matrix_size_7 = 'tai7a.csv'\n",
    "matrix_size_8 = 'tai8a.csv'\n",
    "matrix_size_9 = 'tai9a.csv'\n",
    "\n",
    "#medium sized matrices(ranging from 10x10 to 30x30)\n",
    "matrix_size_10 = 'tai10a.csv'\n",
    "matrix_size_11 = 'tai11a.csv'\n",
    "matrix_size_12 = 'tai12a.csv'\n",
    "matrix_size_15 = 'chr15a.csv' \n",
    "matrix_size_20 = 'chr20a.csv'\n",
    "matrix_size_26 = 'bur26a.csv'\n",
    "\n",
    "#large sized matrices(30x30 and bigger)\n",
    "matrix_size_40 = 'tai40a.csv'\n",
    "matrix_size_60 = 'tai60.csv'\n",
    "matrix_size_80 = 'tai80.csv'\n",
    "matrix_size_256 = 'tai256c.csv'\n",
    "\n",
    "datamatrix = CSVtoNumpyArray(matrix_size_10) # Decide the size of problem to run in the code (clue: \n",
    "                                                #the number in the original name is the size)\n",
    "MatrixLoc = datamatrix[0]\n",
    "MatrixFlow = datamatrix[1]"
   ]
  },
  {
   "cell_type": "markdown",
   "metadata": {},
   "source": [
    "## Preliminary functions"
   ]
  },
  {
   "cell_type": "code",
   "execution_count": 127,
   "metadata": {},
   "outputs": [],
   "source": [
    "def ourpermutations(iterable, r=None):\n",
    "    \"\"\"\n",
    "    Input:\n",
    "    String or numbers separated by a space\n",
    "    optional= the length that the permutations must be\n",
    "    \n",
    "    Output:\n",
    "    a generator of permutations\n",
    "    \"\"\"\n",
    "    \n",
    "    pool = iterable.split(\" \")\n",
    "    n = len(pool)\n",
    "    r = n if r is None else r\n",
    "    for indices in product(range(n), repeat=r):\n",
    "        if len(set(indices)) == r:\n",
    "            yield tuple(pool[i] for i in indices)"
   ]
  },
  {
   "cell_type": "code",
   "execution_count": 128,
   "metadata": {},
   "outputs": [],
   "source": [
    "def ExhaustiveSearchinputs(datamatrix):\n",
    "    \"\"\"\n",
    "    Input:\n",
    "    datamatrix: numpy array\n",
    "    \n",
    "    Output:\n",
    "    list of every permutation allowed and the time it took to run(this is to help with the optimisation and \n",
    "    testing process)\n",
    "    \n",
    "    \"\"\"\n",
    "    \n",
    "    # Important starting values\n",
    "    start = time.time()\n",
    "    length = len(datamatrix)\n",
    "    thestring = \"\"\n",
    "    \n",
    "    #Generate the permutations\n",
    "    for i in range(0,length):  #this is making a string of numbers from 0 to the size of the matrix -1\n",
    "        thestring += str(i) + \" \"\n",
    "    thestring = thestring[:-1]\n",
    "    listofassociations = list(ourpermutations(thestring,length))  #this was the function we made earlier\n",
    "    \n",
    "    #these are the time calculation\n",
    "    end = time.time()\n",
    "    thetime = end - start\n",
    "    return listofassociations, thetime,thestring\n",
    "##########PLEASE NOTE THIS FUNCTION TAKES 4 seconds once datamatrix is length 8 and takes 99 seconds for \n",
    "##########length 9 so don't use values in the repository(use datamatrix size 3 for now)##############"
   ]
  },
  {
   "cell_type": "code",
   "execution_count": 133,
   "metadata": {},
   "outputs": [],
   "source": [
    "listofpermutations= ExhaustiveSearchinputs(MatrixLoc)[0]\n",
    "time_taken_10 = ExhaustiveSearchinputs(MatrixLoc)[1]\n",
    "#print(listofpermutations)\n"
   ]
  },
  {
   "cell_type": "code",
   "execution_count": 134,
   "metadata": {},
   "outputs": [],
   "source": [
    "#w is a list\n",
    "def NumpyArraytoCSV(permutations):\n",
    "    import csv\n",
    "    csvData = permutations\n",
    "\n",
    "    with open('perm10.csv', 'w') as csvFile:\n",
    "        writer = csv.writer(csvFile)\n",
    "        writer.writerows(csvData)\n",
    "\n",
    "    csvFile.close()\n",
    "    return True"
   ]
  },
  {
   "cell_type": "code",
   "execution_count": 135,
   "metadata": {},
   "outputs": [
    {
     "data": {
      "text/plain": [
       "True"
      ]
     },
     "execution_count": 135,
     "metadata": {},
     "output_type": "execute_result"
    }
   ],
   "source": [
    "NumpyArraytoCSV(listofpermutations)"
   ]
  },
  {
   "cell_type": "code",
   "execution_count": null,
   "metadata": {},
   "outputs": [],
   "source": []
  }
 ],
 "metadata": {
  "kernelspec": {
   "display_name": "Python 3",
   "language": "python",
   "name": "python3"
  },
  "language_info": {
   "codemirror_mode": {
    "name": "ipython",
    "version": 3
   },
   "file_extension": ".py",
   "mimetype": "text/x-python",
   "name": "python",
   "nbconvert_exporter": "python",
   "pygments_lexer": "ipython3",
   "version": "3.7.1"
  }
 },
 "nbformat": 4,
 "nbformat_minor": 2
}

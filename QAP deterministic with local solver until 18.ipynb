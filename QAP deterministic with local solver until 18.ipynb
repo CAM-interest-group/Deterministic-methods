{
 "cells": [
  {
   "cell_type": "markdown",
   "metadata": {},
   "source": [
    "# The Quadratic Assignment Problem"
   ]
  },
  {
   "cell_type": "code",
   "execution_count": 295,
   "metadata": {},
   "outputs": [],
   "source": [
    "##This is an initialization cell. Run this first\n",
    "import pandas as pd\n",
    "import numpy as np\n",
    "from itertools import product\n",
    "import time\n",
    "import math\n",
    "import matplotlib\n",
    "import matplotlib.pyplot as plt"
   ]
  },
  {
   "cell_type": "markdown",
   "metadata": {},
   "source": [
    "## Here we are creating a repository of different data sizes\n",
    "We have our data from https://neos-guide.org/content/quadratic-assignment-problem and \n",
    "http://anjos.mgi.polymtl.ca/qaplib/\n",
    "QAPLIB - A Quadratic Assignment Problem Library\n",
    "R.E. BURKARD, E. ÇELA, S.E. KARISCH and F. RENDL"
   ]
  },
  {
   "cell_type": "code",
   "execution_count": 296,
   "metadata": {},
   "outputs": [],
   "source": [
    "def CSVtoNumpyArray(rawdata):\n",
    "    \"\"\"\n",
    "    Input: \n",
    "    rawdata = a csv file (insert name as a string)\n",
    "\n",
    "    Output:\n",
    "    two numpy matrices in a tuple\n",
    "    \"\"\"\n",
    "    data = pd.read_csv(rawdata)  #Reads the data in as a pandas object\n",
    "    c = data.columns\n",
    "    column = int(c[0])\n",
    "    final_data1 = data.iloc[:column,:].values  #Sets data into a series of numpy arrays of strings\n",
    "    final_data2 = data.iloc[column:,:].values  #1 is for the first matrix(loc) and 2 is for the second(flow)\n",
    "    \n",
    "\n",
    "    #Forms the matrix as a numpy array (easier to work with) instead of an list of lists of strings\n",
    "    def string_to_integers(final_data):\n",
    "        matrix = []\n",
    "        for j in range(column):\n",
    "            string = final_data[j][0]\n",
    "            string2 = string.split(\" \")\n",
    "            emptyarray = []\n",
    "            for i in string2:\n",
    "                if i != '':\n",
    "                    emptyarray.append(int(i))\n",
    "            matrix.append(emptyarray)\n",
    "        npmatrix = np.array(matrix) \n",
    "        return npmatrix\n",
    "    return string_to_integers(final_data1),string_to_integers(final_data2)"
   ]
  },
  {
   "cell_type": "code",
   "execution_count": 297,
   "metadata": {},
   "outputs": [],
   "source": [
    "#REPOSITORY\n",
    "\n",
    "#small sized matrices(under 10x10)\n",
    "matrix_size_4 = 'tai4a.csv'\n",
    "matrix_size_5 = 'tai5a.csv'\n",
    "matrix_size_6 = 'tai6a.csv'\n",
    "matrix_size_7 = 'tai7a.csv'\n",
    "matrix_size_8 = 'tai8a.csv'\n",
    "matrix_size_9 = 'tai9a.csv'\n",
    "\n",
    "#medium sized matrices(ranging from 10x10 to 30x30)\n",
    "matrix_size_10 = 'tai10a.csv'\n",
    "matrix_size_11 = 'tai11a.csv'\n",
    "matrix_size_12 = 'tai12a.csv'\n",
    "matrix_size_15 = 'chr15a.csv' \n",
    "matrix_size_20 = 'chr20a.csv'\n",
    "matrix_size_26 = 'bur26a.csv'\n",
    "\n",
    "#large sized matrices(30x30 and bigger)\n",
    "matrix_size_40 = 'tai40a.csv'\n",
    "matrix_size_60 = 'tai60.csv'\n",
    "matrix_size_80 = 'tai80.csv'\n",
    "matrix_size_256 = 'tai256c.csv'\n",
    "\n",
    "datamatrix = CSVtoNumpyArray(matrix_size_6) # Decide the size of problem to run in the code (clue: \n",
    "                                                #the number in the original name is the size)\n",
    "MatrixLoc = datamatrix[0]\n",
    "MatrixFlow = datamatrix[1]"
   ]
  },
  {
   "cell_type": "markdown",
   "metadata": {},
   "source": [
    "## Preliminary functions"
   ]
  },
  {
   "cell_type": "code",
   "execution_count": 298,
   "metadata": {},
   "outputs": [],
   "source": [
    "def ourpermutations(iterable, r=None):\n",
    "    \"\"\"\n",
    "    Input:\n",
    "    String or numbers separated by a space\n",
    "    optional= the length that the permutations must be\n",
    "    \n",
    "    Output:\n",
    "    a generator of permutations\n",
    "    \"\"\"\n",
    "    \n",
    "    pool = iterable.split(\" \")\n",
    "    n = len(pool)\n",
    "    r = n if r is None else r\n",
    "    for indices in product(range(n), repeat=r):\n",
    "        if len(set(indices)) == r:\n",
    "            yield list(pool[i] for i in indices)"
   ]
  },
  {
   "cell_type": "code",
   "execution_count": 299,
   "metadata": {},
   "outputs": [
    {
     "name": "stdout",
     "output_type": "stream",
     "text": [
      "[['1', '2', '3'], ['1', '3', '2'], ['2', '1', '3'], ['2', '3', '1'], ['3', '1', '2'], ['3', '2', '1']]\n",
      "0.0002453327178955078\n"
     ]
    }
   ],
   "source": [
    "#Demonstration of the Permutation function\n",
    "\"\"\"\n",
    "This is a very heavy generator - there seems to be litle to no way to make it more efficient. Even without \n",
    "printing every part of it is slow\n",
    "\"\"\"\n",
    "start = time.time()\n",
    "r = ourpermutations('1 2 3' )# 8 9 10')\n",
    "print(list(r))\n",
    "#print(next(r))\n",
    "#print(next(r))\n",
    "#these are the time calculation\n",
    "end = time.time()\n",
    "thetime = end - start\n",
    "print(thetime)"
   ]
  },
  {
   "cell_type": "code",
   "execution_count": null,
   "metadata": {},
   "outputs": [],
   "source": []
  },
  {
   "cell_type": "code",
   "execution_count": 300,
   "metadata": {},
   "outputs": [],
   "source": [
    "def ExhaustiveSearchinputs(datamatrix):\n",
    "    \"\"\"\n",
    "    Input:\n",
    "    datamatrix: numpy array\n",
    "    \n",
    "    Output:\n",
    "    list of every permutation allowed and the time it took to run(this is to help with the optimisation and \n",
    "    testing process)\n",
    "    \n",
    "    \"\"\"\n",
    "    \n",
    "    # Important starting values\n",
    "    start = time.time()\n",
    "    length = len(datamatrix)\n",
    "    thestring = \"\"\n",
    "    \n",
    "    #Generate the permutations\n",
    "    for i in range(0,length):  #this is making a string of numbers from 0 to the size of the matrix -1\n",
    "        thestring += str(i) + \" \"\n",
    "    thestring = thestring[:-1]\n",
    "    listofassociations = list(ourpermutations(thestring,length))  #this was the function we made earlier\n",
    "    \n",
    "    #these are the time calculation\n",
    "    end = time.time()\n",
    "    thetime = end - start\n",
    "    return listofassociations, thetime,thestring\n",
    "##########PLEASE NOTE THIS FUNCTION TAKES 4 seconds once datamatrix is length 8 and takes 99 seconds for \n",
    "##########length 9 so don't use values in the repository(use datamatrix size 3 for now)##############"
   ]
  },
  {
   "cell_type": "markdown",
   "metadata": {},
   "source": [
    "### Time test for ExhaustiveSearchinputs"
   ]
  },
  {
   "cell_type": "code",
   "execution_count": 301,
   "metadata": {},
   "outputs": [],
   "source": [
    "listofpermutations = ExhaustiveSearchinputs(MatrixLoc)[0]"
   ]
  },
  {
   "cell_type": "code",
   "execution_count": 302,
   "metadata": {},
   "outputs": [
    {
     "data": {
      "image/png": "[encoded data removed]",
      "text/plain": [
       "<Figure size 432x288 with 1 Axes>"
      ]
     },
     "metadata": {
      "needs_background": "light"
     },
     "output_type": "display_data"
    }
   ],
   "source": [
    "#plot\n",
    "time_taken = [0.0004305839538574219, 0.0023462772369384766, 0.015115022659301758, 0.19432568550109863, \n",
    "              4.150153875350952, 101.804532289505, 2618.7232191562653,73961.41815924644]\n",
    "length = [4,5,6,7,8,9,10,11]\n",
    "\n",
    "\n",
    "fig, ax = plt.subplots()\n",
    "ax.plot(length, time_taken)\n",
    "\n",
    "ax.set(xlabel='input matrices dimensions', ylabel='time taken to run(s)',\n",
    "       title='Time test for ExhaustiveSearchinputs')\n",
    "\n",
    "fig.savefig(\"Time test for ExhaustiveSearchinputs.png\")\n",
    "plt.show()"
   ]
  },
  {
   "cell_type": "code",
   "execution_count": 303,
   "metadata": {},
   "outputs": [
    {
     "data": {
      "image/png": "[encoded data removed]",
      "text/plain": [
       "<Figure size 432x288 with 1 Axes>"
      ]
     },
     "metadata": {
      "needs_background": "light"
     },
     "output_type": "display_data"
    }
   ],
   "source": [
    "#semilogplot\n",
    "time_taken = [0.0004305839538574219, 0.0023462772369384766, 0.015115022659301758, 0.19432568550109863, \n",
    "              4.150153875350952, 101.804532289505, 2618.7232191562653,73961.41815924644]\n",
    "length = [4,5,6,7,8,9,10,11]\n",
    "\n",
    "plt.grid(True, which=\"both\")# Display grid\n",
    "\n",
    "plt.semilogy(length, time_taken)\n",
    "plt.xlabel('input matrices dimensions')# Give x axis label for the semilog plot\n",
    "plt.ylabel('time taken to run(s)')# Give y axis label for the semilog plot\n",
    "\n",
    "plt.title('Time test for ExhaustiveSearchinputs semilog')# Provide the title for the semilog plot\n",
    "plt.savefig(\"Time test for ExhaustiveSearchinputs semilog.png\")\n",
    "\n",
    "plt.show()"
   ]
  },
  {
   "cell_type": "code",
   "execution_count": null,
   "metadata": {},
   "outputs": [],
   "source": []
  },
  {
   "cell_type": "markdown",
   "metadata": {},
   "source": [
    "# Exhaustive search"
   ]
  },
  {
   "cell_type": "code",
   "execution_count": 304,
   "metadata": {},
   "outputs": [],
   "source": [
    "def generate_optimal_permutation(listofpermutations,MatrixLoc,MatrixFlow):\n",
    "    \"\"\"\n",
    "    Input:\n",
    "    MatrixLoc\n",
    "    MatrixFlow\n",
    "    listofpermutaions\n",
    "    \n",
    "    Output:\n",
    "    The optimal permutation\n",
    "    the optimal cost\n",
    "    in a tuple\n",
    "    \"\"\"\n",
    "    start = time.time()\n",
    "    matrix_length = len(MatrixLoc)\n",
    "    no_of_permutations = len(listofpermutations)\n",
    "    arraysol = []\n",
    "    \n",
    "    #generate the multiples (that function we are optimising)\n",
    "    for j in range(no_of_permutations):\n",
    "        perm = listofpermutations[j]\n",
    "        total = 0\n",
    "        for i in range(matrix_length):\n",
    "            for k in range(matrix_length):\n",
    "                if i !=k:\n",
    "                    total += MatrixLoc[i][k]*MatrixFlow[int(perm[i])][int(perm[k])]#this is that function that \n",
    "                                                #adds the products of different combinations of factories\n",
    "        arraysol.append(total)\n",
    "    \n",
    "    finalcost = min(arraysol)\n",
    "    finalindex = np.argmin(arraysol) #finds the optimal set of locations to factories(Which I stupidly \n",
    "                                        #called flow)\n",
    "    end = time.time()\n",
    "    thetime = end - start    \n",
    "    return listofpermutations[finalindex],finalcost,thetime"
   ]
  },
  {
   "cell_type": "code",
   "execution_count": 305,
   "metadata": {},
   "outputs": [],
   "source": [
    "#generate_optimal_permutation(listofpermutations,MatrixLoc,MatrixFlow)"
   ]
  },
  {
   "cell_type": "code",
   "execution_count": 306,
   "metadata": {},
   "outputs": [
    {
     "name": "stdout",
     "output_type": "stream",
     "text": [
      "(['4', '1', '5', '0', '3', '2'], 626, 0.046910762786865234)\n"
     ]
    }
   ],
   "source": [
    "solutionex = generate_optimal_permutation(listofpermutations,MatrixLoc,MatrixFlow)\n",
    "print(solutionex)"
   ]
  },
  {
   "cell_type": "code",
   "execution_count": null,
   "metadata": {},
   "outputs": [],
   "source": []
  },
  {
   "cell_type": "markdown",
   "metadata": {},
   "source": [
    "# Branch and bound"
   ]
  },
  {
   "cell_type": "code",
   "execution_count": 307,
   "metadata": {},
   "outputs": [],
   "source": [
    "def generate_optimal_permutationBnB(listofpermutations,MatrixLoc,MatrixFlow):\n",
    "    \"\"\"\n",
    "    Input:\n",
    "    MatrixLoc\n",
    "    MatrixFlow\n",
    "    listofpermutaions\n",
    "    \n",
    "    Output:\n",
    "    The optimal permutation\n",
    "    the optimal cost\n",
    "    in a tuple\n",
    "    \"\"\"\n",
    "    start = time.time()\n",
    "    matrix_length = len(MatrixLoc)\n",
    "    no_of_permutations = len(listofpermutations)\n",
    "    arraysol = []\n",
    "    bettersol = math.inf\n",
    "    bettersolind = 0\n",
    "    \n",
    "    #generate the multiples (that function we are optimising)\n",
    "    for k in range(no_of_permutations):\n",
    "        perm = listofpermutations[k]\n",
    "        total = 0\n",
    "        i =0\n",
    "        while i < matrix_length and bettersol>=total:\n",
    "            j=0\n",
    "            while j<matrix_length:\n",
    "                if i!=j:\n",
    "                    total += MatrixLoc[i][j]*MatrixFlow[int(perm[i])][int(perm[j])]\n",
    "                j += 1\n",
    "            i += 1\n",
    "        if bettersol>total:\n",
    "            bettersol = total\n",
    "            bettersolind = k\n",
    "        \n",
    "    \n",
    "    finalcost = bettersol\n",
    "    finalindex = bettersolind\n",
    "    end = time.time()\n",
    "    thetime = end - start\n",
    "    \n",
    "    return listofpermutations[finalindex],finalcost,thetime"
   ]
  },
  {
   "cell_type": "code",
   "execution_count": 308,
   "metadata": {},
   "outputs": [],
   "source": [
    "#generate_optimal_permutationBnB(listofpermutations,MatrixLoc,MatrixFlow)"
   ]
  },
  {
   "cell_type": "code",
   "execution_count": 309,
   "metadata": {},
   "outputs": [
    {
     "name": "stdout",
     "output_type": "stream",
     "text": [
      "(['4', '1', '5', '0', '3', '2'], 626, 0.0192258358001709)\n"
     ]
    }
   ],
   "source": [
    "solutionBnB = generate_optimal_permutationBnB(listofpermutations,MatrixLoc,MatrixFlow)\n",
    "print(solutionBnB)"
   ]
  },
  {
   "cell_type": "code",
   "execution_count": null,
   "metadata": {},
   "outputs": [],
   "source": []
  },
  {
   "cell_type": "markdown",
   "metadata": {},
   "source": [
    "## Solutions"
   ]
  },
  {
   "cell_type": "code",
   "execution_count": 310,
   "metadata": {},
   "outputs": [],
   "source": [
    "#storing permutation matrices\n",
    "def NumpyArraytoCSV(permutations, number):\n",
    "    import csv\n",
    "    csvData = permutations\n",
    "    name = \"perm\" + str(number) + \".csv\"\n",
    "    \n",
    "    with open(name, 'w') as csvFile:\n",
    "        writer = csv.writer(csvFile)\n",
    "        writer.writerows(csvData)\n",
    "\n",
    "    csvFile.close()\n",
    "    return True"
   ]
  },
  {
   "cell_type": "code",
   "execution_count": 311,
   "metadata": {},
   "outputs": [
    {
     "data": {
      "text/plain": [
       "True"
      ]
     },
     "execution_count": 311,
     "metadata": {},
     "output_type": "execute_result"
    }
   ],
   "source": [
    "NumpyArraytoCSV(listofpermutations,77)"
   ]
  },
  {
   "cell_type": "code",
   "execution_count": 312,
   "metadata": {},
   "outputs": [],
   "source": [
    "def data_collection(start,end):\n",
    "    \"\"\"\n",
    "    Output:\n",
    "    tuple of Exhaustive search and Branch and Bound data\n",
    "    perm,optimal weight,time\"\"\"\n",
    "    Exhaustivesolutions = []\n",
    "    Branchsolutions = []\n",
    "    for q in range(start,end):\n",
    "        datamatrix = CSVtoNumpyArray('tai' + str(q) +'a.csv')\n",
    "        MatrixLoc = datamatrix[0]\n",
    "        MatrixFlow = datamatrix[1]\n",
    "        listofpermutations= ExhaustiveSearchinputs(MatrixLoc)[0]\n",
    "        r = NumpyArraytoCSV(listofpermutations, q)\n",
    "        solutionex = generate_optimal_permutation(listofpermutations,MatrixLoc,MatrixFlow)\n",
    "        Exhaustivesolutions.append(solutionex)\n",
    "        solutionBnB = generate_optimal_permutationBnB(listofpermutations,MatrixLoc,MatrixFlow)\n",
    "        Branchsolutions.append(solutionBnB)\n",
    "    return Exhaustivesolutions, Branchsolutions,r"
   ]
  },
  {
   "cell_type": "code",
   "execution_count": 313,
   "metadata": {},
   "outputs": [
    {
     "data": {
      "text/plain": [
       "([(['2', '3', '0', '1'], 790, 0.0005998611450195312)],\n",
       " [(['2', '3', '0', '1'], 790, 0.0005772113800048828)],\n",
       " True)"
      ]
     },
     "execution_count": 313,
     "metadata": {},
     "output_type": "execute_result"
    }
   ],
   "source": [
    "finaldata = data_collection(4,5)\n",
    "finaldata"
   ]
  },
  {
   "cell_type": "code",
   "execution_count": null,
   "metadata": {},
   "outputs": [],
   "source": []
  },
  {
   "cell_type": "code",
   "execution_count": 314,
   "metadata": {},
   "outputs": [],
   "source": [
    "#The solutions for 4 until 11\n",
    "final = ([(['2', '3', '0', '1'], 790, 0.0009167194366455078),\n",
    "  (['1', '3', '4', '2', '0'], 628, 0.00436854362487793),\n",
    "  (['4', '1', '5', '0', '3', '2'], 626, 0.022596359252929688),\n",
    "  (['4', '3', '5', '2', '1', '6', '0'], 1478, 0.19768333435058594),\n",
    "  (['5', '4', '3', '6', '7', '0', '2', '1'], 1808, 2.0959057807922363),\n",
    "  (['2', '5', '8', '7', '6', '3', '4', '1', '0'], 2282, 23.58026623725891),\n",
    "  (['8', '0', '7', '5', '9', '4', '3', '2', '6', '1'],135028, 286.9703893661499),\n",
    "  (['8', '0', '6', '4', '9', '10', '5', '2', '7', '1', '3'],   190016,   3786.5291616916656)],\n",
    " [(['2', '3', '0', '1'], 790, 0.0009942054748535156),\n",
    "  (['1', '3', '4', '2', '0'], 628, 0.003525257110595703),\n",
    "  (['4', '1', '5', '0', '3', '2'], 626, 0.019068479537963867),\n",
    "  (['4', '3', '5', '2', '1', '6', '0'], 1478, 0.15809869766235352),\n",
    "  (['5', '4', '3', '6', '7', '0', '2', '1'], 1808, 1.4732763767242432),\n",
    "  (['2', '5', '8', '7', '6', '3', '4', '1', '0'], 2282, 15.840143918991089),\n",
    "  (['8', '0', '7', '5', '9', '4', '3', '2', '6', '1'],135028,221.24261617660522),\n",
    "  (['8', '0', '6', '4', '9', '10', '5', '2', '7', '1', '3'],   190016,  3029.7006783485413)])"
   ]
  },
  {
   "cell_type": "code",
   "execution_count": 315,
   "metadata": {},
   "outputs": [],
   "source": [
    "def plot_generator(finaldata):\n",
    "    #plot\n",
    "    length = list(range(4,12))\n",
    "    time_taken_Ex = []\n",
    "    time_taken_BnB = []\n",
    "    \n",
    "    for i in range(7):\n",
    "        #print(i)\n",
    "        time_taken_Ex.append(finaldata[0][i][2])\n",
    "        time_taken_BnB.append(finaldata[1][i][2])\n",
    "    time_taken_Ex.append(3786.5291616916656)\n",
    "    time_taken_BnB.append(3029.7006783485413)\n",
    "    \n",
    "    Localsolver_times = [1,1,1,1,2,1,3,5,8,52,30,176,1013]\n",
    "    Localsolver_size = [4,5,6,7,8,9,10,11,12,15,16,17,18]\n",
    "    \n",
    "    fig, ax = plt.subplots()\n",
    "    ax.plot(length, time_taken_Ex,label= \"exhaustive(dfs)\")\n",
    "    ax.plot(length, time_taken_BnB, label= \"branch and bound\")\n",
    "    ax.plot(Localsolver_size, Localsolver_times,label= \"Localsolver\")\n",
    "    \n",
    "    ax.set(xlabel='input matrices dimensions', ylabel='time taken to run(s)',\n",
    "           title='Time test for Exhaustive, Branch and bound and Localsolver')\n",
    "    ax.legend()\n",
    "    fig.savefig(\"Time test for Exhaustive, Branch and bound and Localsolver.jpg\")\n",
    "    plt.show()\n",
    "    return True"
   ]
  },
  {
   "cell_type": "code",
   "execution_count": 316,
   "metadata": {},
   "outputs": [
    {
     "data": {
      "image/png": "[encoded data removed]",
      "text/plain": [
       "<Figure size 432x288 with 1 Axes>"
      ]
     },
     "metadata": {
      "needs_background": "light"
     },
     "output_type": "display_data"
    },
    {
     "data": {
      "text/plain": [
       "True"
      ]
     },
     "execution_count": 316,
     "metadata": {},
     "output_type": "execute_result"
    }
   ],
   "source": [
    "plot_generator(final)"
   ]
  },
  {
   "cell_type": "code",
   "execution_count": 317,
   "metadata": {},
   "outputs": [],
   "source": [
    "def semilogplot_generator(finaldata):\n",
    "    #plot\n",
    "    length = list(range(4,12))\n",
    "    time_taken_Ex = []\n",
    "    time_taken_BnB = []\n",
    "    \n",
    "    for i in range(7):\n",
    "        #print(i)\n",
    "        time_taken_Ex.append(finaldata[0][i][2])\n",
    "        time_taken_BnB.append(finaldata[1][i][2])\n",
    "\n",
    "    time_taken_Ex.append(3786.5291616916656)\n",
    "    time_taken_BnB.append(3029.7006783485413)\n",
    "    \n",
    "    plt.semilogy(length, time_taken_Ex,label= \"exhaustive(dfs)\")\n",
    "    plt.semilogy(length,time_taken_BnB,label= \"branch and bound\")\n",
    "\n",
    "    plt.xlabel('input matrices dimensions')# Give x axis label for the semilog plot\n",
    "    plt.ylabel('time taken to run(s)')# Give y axis label for the semilog plot\n",
    "\n",
    "    plt.title('Time test for Exhaustive and Branch and bound semilog')# Provide the title for the semilog plot\n",
    "    plt.legend()\n",
    "    plt.savefig(\"Time test for Exhaustive and Branch and bound semilog.png\")\n",
    "\n",
    "    plt.show()\n",
    "    return True"
   ]
  },
  {
   "cell_type": "code",
   "execution_count": 318,
   "metadata": {},
   "outputs": [
    {
     "data": {
      "image/png": "[encoded data removed]",
      "text/plain": [
       "<Figure size 432x288 with 1 Axes>"
      ]
     },
     "metadata": {
      "needs_background": "light"
     },
     "output_type": "display_data"
    },
    {
     "data": {
      "text/plain": [
       "True"
      ]
     },
     "execution_count": 318,
     "metadata": {},
     "output_type": "execute_result"
    }
   ],
   "source": [
    "semilogplot_generator(final)"
   ]
  },
  {
   "cell_type": "code",
   "execution_count": 319,
   "metadata": {},
   "outputs": [
    {
     "data": {
      "image/png": "[encoded data removed]",
      "text/plain": [
       "<Figure size 432x288 with 1 Axes>"
      ]
     },
     "metadata": {
      "needs_background": "light"
     },
     "output_type": "display_data"
    }
   ],
   "source": [
    "\"\"\"\n",
    "So for the sizes 4, 5, 6 and 7 the value is found in less than one second and the program does not let me calculate times at less than 1 second.\n",
    "Therefore all time values have an error of about -1 second. the iteration values are also an upper limit\n",
    "\"\"\"\n",
    "Localsolver_times = [1,1,1,1,2,1,3,5,8,52,30]\n",
    "Localsolver_size = [4,5,6,7,8,9,10,11,12,15,16,17,18]\n",
    "Localsolver_iterations = [317881,373066, 266261,298144,442266,308349,800151,1080000,1572150,20814250,3663640,19963086,391067290]\n",
    "\n",
    "    \n",
    "fig, ax = plt.subplots()\n",
    "ax.plot(Localsolver_size, Localsolver_iterations)\n",
    "    \n",
    "ax.set(xlabel='input matrices dimensions', ylabel='no. of iterations',\n",
    "       title='No. of iterations until solution for Localsolver')\n",
    "fig.savefig(\"No. of iterations until solution for Localsolver.jpg\")\n",
    "plt.show()"
   ]
  },
  {
   "cell_type": "code",
   "execution_count": null,
   "metadata": {},
   "outputs": [],
   "source": []
  },
  {
   "cell_type": "code",
   "execution_count": null,
   "metadata": {},
   "outputs": [],
   "source": []
  }
 ],
 "metadata": {
  "kernelspec": {
   "display_name": "Python 3",
   "language": "python",
   "name": "python3"
  },
  "language_info": {
   "codemirror_mode": {
    "name": "ipython",
    "version": 3
   },
   "file_extension": ".py",
   "mimetype": "text/x-python",
   "name": "python",
   "nbconvert_exporter": "python",
   "pygments_lexer": "ipython3",
   "version": "3.7.3"
  }
 },
 "nbformat": 4,
 "nbformat_minor": 2
}
